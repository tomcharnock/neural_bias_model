{
 "cells": [
  {
   "cell_type": "markdown",
   "metadata": {},
   "source": [
    "# Neural physical engines for inferring the halo mass distribution function\n",
    "## Tom Charnock\n",
    "\n",
    "Here is an outlined sketch for the neural physical engine and mixture density network used as the neural bias model. The code is written in `julia` and `python`. For convenience we are using SoS notebooks here to be able to use both languages.\n",
    "\n",
    "The idea is to build a neural network respecting rotational symmetries and whoes output is a mixture density network (of Gaussians). This will receive a LPT density field and produce the halo mass distribution function.\n",
    "\n",
    "Note that we are using TensorFlow 1.13.1 in both `python` and `julia`."
   ]
  },
  {
   "cell_type": "markdown",
   "metadata": {},
   "source": [
    "We will first load the `multipole_kernels` module in python purely to get the indices for filling the rotationally invariant weight kernel. We will consider a single $\\ell=0$ kernel (completely rotationally invariant) with extent $3\\times3\\times3$. The module is available at https://github.com/tomcharnock/multipole_kernels.\n",
    "\n",
    "We are going to get the number of parameters, and number of biases in the kernels for book-keeping and then pull out the `kernel_indices`, `weight_index` and `kernel_shape`. The `kernel_indices` contains an `[N, d+2]` integer array which describes the index of every element of the `d`-dimensional set of kernels (much like meshgrid). The `weight_index` is an `[N]` integer array whose values correspond to the index of the parameter which will be populated into the kernel. Finally `kernel_shape` is simply the shape of the kernel."
   ]
  },
  {
   "cell_type": "code",
   "execution_count": 1,
   "metadata": {},
   "outputs": [],
   "source": [
    "%use python\n",
    "import tensorflow as tf\n",
    "from multipole_kernels.multipole_kernels import multipole_kernels as mk\n",
    "MK = mk(kernel_size=[3, 3, 3], ℓ=[0], input_filters=1)\n",
    "\n",
    "num_kernel_params = MK.num_params\n",
    "num_bias_params = MK.num_output_filters\n",
    "\n",
    "sess = tf.Session()\n",
    "sess.run(tf.global_variables_initializer())\n",
    "\n",
    "kernel_indices = sess.run(\"indices:0\")\n",
    "weight_index = sess.run(\"weight_index:0\")\n",
    "kernel_shape = sess.run(\"shape:0\")"
   ]
  },
  {
   "cell_type": "markdown",
   "metadata": {},
   "source": [
    "We now load the necessary modules in `julia`"
   ]
  },
  {
   "cell_type": "code",
   "execution_count": 2,
   "metadata": {},
   "outputs": [],
   "source": [
    "%use julia\n",
    "using TensorFlow; tf = TensorFlow\n",
    "using SpecialFunctions\n",
    "using NPZ\n",
    "using Distributions"
   ]
  },
  {
   "cell_type": "markdown",
   "metadata": {},
   "source": [
    "and we load the `python` variable into the environment. Note that we add 1 to the indices variables since `julia` is 1-indexed."
   ]
  },
  {
   "cell_type": "code",
   "execution_count": 3,
   "metadata": {},
   "outputs": [],
   "source": [
    "%get num_kernel_params, num_bias_params, kernel_indices, weight_index, kernel_shape\n",
    "kernel_indices .+= 1;\n",
    "weight_index .+= 1;"
   ]
  },
  {
   "cell_type": "markdown",
   "metadata": {},
   "source": [
    "We want to now define the mixture density network (MDN). We can represent the fully connected layers as a list of the number of nodes, for example `layers = [10, 16, 16, 1]` would take an input of shape `10` and have two hidden layers of shape `16` and output a single entry vector. In our example we will have no fully connected layers between the convolutional kernel and MDN. We can write this as"
   ]
  },
  {
   "cell_type": "code",
   "execution_count": 4,
   "metadata": {},
   "outputs": [],
   "source": [
    "distributions = 2;\n",
    "layers = [1];"
   ]
  },
  {
   "cell_type": "markdown",
   "metadata": {},
   "source": [
    "The total number of parameters for the MDN can then be calculated using the `get_mdn_params(layers, distributions)` function which loops through the layers and counts the number of parameters needed for the fully connected network."
   ]
  },
  {
   "cell_type": "code",
   "execution_count": 5,
   "metadata": {},
   "outputs": [
    {
     "data": {
      "text/plain": [
       "get_mdn_params (generic function with 1 method)"
      ]
     },
     "execution_count": 5,
     "metadata": {},
     "output_type": "execute_result"
    }
   ],
   "source": [
    "function get_mdn_params(layers, distributions)\n",
    "    number_of_parameters = 0\n",
    "    for i = 1: length(layers) - 1\n",
    "        number_of_parameters += prod(layers[i: i + 1]) + layers[i + 1]\n",
    "    end\n",
    "    return number_of_parameters, layers[end] * distributions\n",
    "end"
   ]
  },
  {
   "cell_type": "markdown",
   "metadata": {},
   "source": [
    "The total number of parameters in the network is then given by the number of fully connected parameters, the number of inputs to the distributions and the number of kernel parameters and bias parameters from the `multipole_kernels`. Since we are using Gaussians in this example we have three parameters per distribution per element of the output vector of the fully connected layers, one amplitude, one mean and one standard deviation."
   ]
  },
  {
   "cell_type": "code",
   "execution_count": 6,
   "metadata": {},
   "outputs": [
    {
     "data": {
      "text/plain": [
       "17"
      ]
     },
     "execution_count": 6,
     "metadata": {},
     "output_type": "execute_result"
    }
   ],
   "source": [
    "fc_params, mdn_kernels = get_mdn_params(layers, distributions)\n",
    "num_params = fc_params + (mdn_kernels + distributions) * 3 + num_kernel_params + num_bias_params"
   ]
  },
  {
   "cell_type": "markdown",
   "metadata": {},
   "source": [
    "We can now define our parameter variable in TensorFlow. For convenience we will initialise the variable with random values from a normal distribution."
   ]
  },
  {
   "cell_type": "code",
   "execution_count": 7,
   "metadata": {},
   "outputs": [
    {
     "data": {
      "text/plain": [
       "Variable{Float64}(<Tensor parameters:1 shape=(17) dtype=Float64>, <Tensor parameters/Assign:1 shape=(17) dtype=Float64>)"
      ]
     },
     "execution_count": 7,
     "metadata": {},
     "output_type": "execute_result"
    }
   ],
   "source": [
    "x = Normal(0., 1.)\n",
    "p = tf.Variable(\n",
    "    Float64.(rand(x, num_params)),\n",
    "    trainable=true,\n",
    "    name=\"parameters\")"
   ]
  },
  {
   "cell_type": "markdown",
   "metadata": {},
   "source": [
    "So that we can freely assign to the parameters variable we also define these operations"
   ]
  },
  {
   "cell_type": "code",
   "execution_count": 8,
   "metadata": {},
   "outputs": [
    {
     "data": {
      "text/plain": [
       "<Tensor assign_parameters:1 shape=(17) dtype=Float64>"
      ]
     },
     "execution_count": 8,
     "metadata": {},
     "output_type": "execute_result"
    }
   ],
   "source": [
    "update_p = tf.placeholder(\n",
    "    Float64, \n",
    "    shape=Int64[num_params],\n",
    "    name=\"update_parameters\")\n",
    "assign_p = tf.assign(\n",
    "    tf.get_tensor_by_name(\"parameters\"),\n",
    "    update_p,\n",
    "    name=\"assign_parameters\")"
   ]
  },
  {
   "cell_type": "markdown",
   "metadata": {},
   "source": [
    "We also can define a coordinate transformation in the network parameters such that their central values are approximately zero. This is useful for defining a simple prior later. We will choose the initial amplitude to be `initial_amplitude=log(1e-3)`, the mass threshhold to be `log_mass_threshhold=log(2e12)` and the initial width to be `initial_width=log(1e3)`."
   ]
  },
  {
   "cell_type": "code",
   "execution_count": 9,
   "metadata": {},
   "outputs": [
    {
     "data": {
      "text/plain": [
       "Variable{Float64}(<Tensor initial_width:1 shape=() dtype=Float64>, <Tensor initial_width/Assign:1 shape=() dtype=Float64>)"
      ]
     },
     "execution_count": 9,
     "metadata": {},
     "output_type": "execute_result"
    }
   ],
   "source": [
    "initial_amplitude = tf.Variable(\n",
    "    Float64(log(1e-3)),\n",
    "    trainable=false,\n",
    "    name=\"initial_amplitude\")\n",
    "logMth = tf.Variable(\n",
    "    Float64(log(2e12)),\n",
    "    trainable=false, \n",
    "    name=\"logMth\")\n",
    "initial_width = tf.Variable(\n",
    "    Float64(log(1e3)),\n",
    "    trainable=false, \n",
    "    name=\"initial_width\")"
   ]
  },
  {
   "cell_type": "markdown",
   "metadata": {},
   "source": [
    "We also need to include the volume of a pixel on the grid. In the paper we consider a 250$h^{-1}$Mpc patch gridded onto a $64^3$ grid."
   ]
  },
  {
   "cell_type": "code",
   "execution_count": 10,
   "metadata": {},
   "outputs": [
    {
     "data": {
      "text/plain": [
       "Variable{Float64}(<Tensor V:1 shape=() dtype=Float64>, <Tensor V/Assign:1 shape=() dtype=Float64>)"
      ]
     },
     "execution_count": 10,
     "metadata": {},
     "output_type": "execute_result"
    }
   ],
   "source": [
    "L0 = Float64(250.)\n",
    "L1 = Float64(250.)\n",
    "L2 = Float64(250.)\n",
    "N0 = Float64(64.)\n",
    "N1 = Float64(64.)\n",
    "N2 = Float64(64.)\n",
    "V = tf.Variable(\n",
    "    (L0 / N0) * (L1 / N1) * (L2 / N2),\n",
    "    trainable=false,\n",
    "    name=\"V\")  "
   ]
  },
  {
   "cell_type": "markdown",
   "metadata": {},
   "source": [
    "Finally, we include the width of the bias prior. We are going choose a Gaussian prior centred on zero for all of the parameters and so the width needs to be large enough to allow for freedom for the parameters to explore, but tight enough that the momenta of the parameters doesn't get too large in the HMC sampling. We use `bias_width=10`, we we found not to cause problems, although we did not study this in detail. All parameters were well within this prior at the end of the inference."
   ]
  },
  {
   "cell_type": "code",
   "execution_count": 11,
   "metadata": {},
   "outputs": [
    {
     "data": {
      "text/plain": [
       "Variable{Float64}(<Tensor bias_prior:1 shape=() dtype=Float64>, <Tensor bias_prior/Assign:1 shape=() dtype=Float64>)"
      ]
     },
     "execution_count": 11,
     "metadata": {},
     "output_type": "execute_result"
    }
   ],
   "source": [
    "bias_prior = tf.Variable(\n",
    "    Float64(10.), \n",
    "    trainable=false, \n",
    "    name=\"bias_prior\")"
   ]
  },
  {
   "cell_type": "markdown",
   "metadata": {},
   "source": [
    "Now we can set up the graph. We will be offloading the work normally done by the `multipole_kernels` module in `python` to the TensorFlow frontend for `julia`. This will allow us to show the details for how the kernels are filled. We start by making the `kernel_indices`, `weight_index` and `shape` pulled in from the `python` module into TensorFlow variables. Remember the values of `kernel_indices` and `weight_index` need to be increased by one since `julia` is 1-indexed."
   ]
  },
  {
   "cell_type": "code",
   "execution_count": 12,
   "metadata": {},
   "outputs": [
    {
     "data": {
      "text/plain": [
       "Variable{Int64}(<Tensor shape:1 shape=(5) dtype=Int64>, <Tensor shape/Assign:1 shape=(5) dtype=Int64>)"
      ]
     },
     "execution_count": 12,
     "metadata": {},
     "output_type": "execute_result"
    }
   ],
   "source": [
    "kernel_indices = tf.Variable(\n",
    "    Int64.(kernel_indices),\n",
    "    trainable=false,\n",
    "    name=\"kernel_indices\")\n",
    "weight_index = tf.Variable(\n",
    "    Int64.(weight_index),\n",
    "    trainable=false,\n",
    "    name=\"weight_index\")\n",
    "shape = tf.Variable(\n",
    "    Int64.(kernel_shape),\n",
    "    trainable=false,\n",
    "    name=\"shape\")"
   ]
  },
  {
   "cell_type": "markdown",
   "metadata": {},
   "source": [
    "First we take a slice out of the parameters variable (of size `num_kernel_params`) for the weights of the kernel and place these values in a tensor according to the index values in `weight_index` which describes where each parameter will be populated into the final `multipole_kernel`. For book-keeping we will introduce a counting variable (`start`) for how many of the parameters have been used."
   ]
  },
  {
   "cell_type": "code",
   "execution_count": 13,
   "metadata": {},
   "outputs": [
    {
     "data": {
      "text/plain": [
       "5"
      ]
     },
     "execution_count": 13,
     "metadata": {},
     "output_type": "execute_result"
    }
   ],
   "source": [
    "start = 1\n",
    "full_weights = tf.gather(\n",
    "        tf.slice(\n",
    "            p,\n",
    "            [start],\n",
    "            [num_kernel_params]),\n",
    "        weight_index)\n",
    "start += num_kernel_params"
   ]
  },
  {
   "cell_type": "markdown",
   "metadata": {},
   "source": [
    "And now we populate the kernel by placing the values into the convolutional kernel using the indices described in `kernel_indices`. Unfortunately, the `julia` frontend to TensorFlow doesn't recognise the shape correctly - I haven't implemented the shape inference yet. As a short work around if you want to see the shapes of the tensors in this example I have made a fake tensor which won't work but has the correct shape, just set `see_shape=true`. "
   ]
  },
  {
   "cell_type": "code",
   "execution_count": 14,
   "metadata": {},
   "outputs": [
    {
     "data": {
      "text/plain": [
       "<Tensor kernel:1 shape=(3, 3, 3, 1, 1) dtype=Float64>"
      ]
     },
     "execution_count": 14,
     "metadata": {},
     "output_type": "execute_result"
    }
   ],
   "source": [
    "see_shape=false\n",
    "if see_shape\n",
    "    kernel = tf.placeholder(\n",
    "        Float64, \n",
    "        shape=Int64[3, 3, 3, 1, 1],\n",
    "        name=\"kernel\")\n",
    "else\n",
    "    kernel = tf.scatter_nd(\n",
    "        kernel_indices, \n",
    "        full_weights, \n",
    "        shape,\n",
    "        name=\"kernel\")\n",
    "end"
   ]
  },
  {
   "cell_type": "markdown",
   "metadata": {},
   "source": [
    "We also need to get the parameters for the bias of the convolution"
   ]
  },
  {
   "cell_type": "code",
   "execution_count": 15,
   "metadata": {},
   "outputs": [
    {
     "data": {
      "text/plain": [
       "6"
      ]
     },
     "execution_count": 15,
     "metadata": {},
     "output_type": "execute_result"
    }
   ],
   "source": [
    "biases = tf.identity(\n",
    "    tf.slice(\n",
    "        p,\n",
    "        [start],\n",
    "        [num_bias_params]),\n",
    "    name=\"biases\")\n",
    "start += num_bias_params"
   ]
  },
  {
   "cell_type": "markdown",
   "metadata": {},
   "source": [
    "The parameters for the fully connected network (which in our case is zero parameters)"
   ]
  },
  {
   "cell_type": "code",
   "execution_count": 16,
   "metadata": {},
   "outputs": [
    {
     "data": {
      "text/plain": [
       "6"
      ]
     },
     "execution_count": 16,
     "metadata": {},
     "output_type": "execute_result"
    }
   ],
   "source": [
    "fully_connected = tf.identity(\n",
    "    tf.slice(\n",
    "        p,\n",
    "        [start],\n",
    "        [fc_params]),\n",
    "    name=\"fully_connected\")\n",
    "start += fc_params"
   ]
  },
  {
   "cell_type": "markdown",
   "metadata": {},
   "source": [
    "And now the parameters for the amplitude, mean and standard deviations of both of the distributions of the mixture of Gaussians"
   ]
  },
  {
   "cell_type": "code",
   "execution_count": 17,
   "metadata": {},
   "outputs": [
    {
     "data": {
      "text/plain": [
       "<Tensor std_biases:1 shape=(2) dtype=Float64>"
      ]
     },
     "execution_count": 17,
     "metadata": {},
     "output_type": "execute_result"
    }
   ],
   "source": [
    "amplitude_kernels = tf.reshape(\n",
    "    tf.slice(p,\n",
    "        [start],\n",
    "        [mdn_kernels]),\n",
    "    Int64[layers[end], distributions],\n",
    "    name=\"amplitude_kernels\")\n",
    "start += mdn_kernels\n",
    "\n",
    "amplitude_biases = tf.identity(\n",
    "    tf.slice(\n",
    "        p,\n",
    "        [start],\n",
    "        [distributions]),\n",
    "    name=\"amplitude_biases\")\n",
    "start += distributions\n",
    "\n",
    "mean_kernels = tf.reshape(\n",
    "    tf.slice(p,\n",
    "        [start],\n",
    "        [mdn_kernels]),\n",
    "    Int64[layers[end], distributions],\n",
    "    name=\"mean_kernels\")\n",
    "start += mdn_kernels\n",
    "\n",
    "mean_biases = tf.identity(\n",
    "    tf.slice(\n",
    "        p,\n",
    "        [start],\n",
    "        [distributions]),\n",
    "    name=\"mean_biases\")\n",
    "start += distributions\n",
    "\n",
    "std_kernels = tf.reshape(\n",
    "    tf.slice(\n",
    "        p,\n",
    "        [start],\n",
    "        [mdn_kernels]),\n",
    "    Int64[layers[end], distributions],\n",
    "    name=\"std_kernels\")\n",
    "start += mdn_kernels\n",
    "std_biases = tf.identity(\n",
    "    tf.slice(\n",
    "        p,\n",
    "        [start],\n",
    "        [distributions]),\n",
    "    name=\"std_biases\") "
   ]
  },
  {
   "cell_type": "markdown",
   "metadata": {},
   "source": [
    "Now we want to actually construct the network. Firstly the convolution is simple in this case (note that this function will need to be modified if several layers are used). We take the logarithm of the overdensity field as the input to the neural bias model and then perform the convolution and use a softplus activation function."
   ]
  },
  {
   "cell_type": "code",
   "execution_count": 18,
   "metadata": {},
   "outputs": [
    {
     "data": {
      "text/plain": [
       "convolution (generic function with 1 method)"
      ]
     },
     "execution_count": 18,
     "metadata": {},
     "output_type": "execute_result"
    }
   ],
   "source": [
    "function convolution(x)\n",
    "    kernel = tf.get_tensor_by_name(\"kernel\")\n",
    "    b = tf.get_tensor_by_name(\"biases\")\n",
    "    x = tf.log(tf.add(Float64(1.0), x))\n",
    "    x = tf.add(\n",
    "            tf.nn.conv3d(\n",
    "                x, \n",
    "                kernel, \n",
    "                strides=[1, 1, 1, 1, 1], \n",
    "                padding=\"VALID\"), \n",
    "            b)\n",
    "    return tf.reduce_sum(tf.nn.softplus(x), axis=5)\n",
    "end"
   ]
  },
  {
   "cell_type": "markdown",
   "metadata": {},
   "source": [
    "Then we have the MDN (which also builds a fully connected network if there is one). We use softplus activation here too."
   ]
  },
  {
   "cell_type": "code",
   "execution_count": 19,
   "metadata": {},
   "outputs": [
    {
     "data": {
      "text/plain": [
       "build_fully_connected (generic function with 1 method)"
      ]
     },
     "execution_count": 19,
     "metadata": {},
     "output_type": "execute_result"
    }
   ],
   "source": [
    "function build_fully_connected(x, layers, distributions)\n",
    "    fully_connected = tf.get_tensor_by_name(\"fully_connected\")\n",
    "    c1 = Int64(0)\n",
    "    size = Int64(0)\n",
    "    for i=1:length(layers)-1\n",
    "        c1 = c1 + size\n",
    "        size = prod(layers[i] * layers[i + 1])\n",
    "        w = tf.reshape(\n",
    "                tf.slice(fully_connected, \n",
    "                         [c1+1], \n",
    "                         [size]), \n",
    "                Int64[layers[i], layers[i+1]])\n",
    "        x = tf.matmul(x, w)\n",
    "        c1 = c1 + size\n",
    "        size = layers[i+1]\n",
    "        b = tf.slice(fully_connected, \n",
    "                             [c1+1], \n",
    "                             [size])\n",
    "        x = tf.add(x, b)\n",
    "        x = tf.nn.softplus(x)\n",
    "    end\n",
    "    return x\n",
    "end"
   ]
  },
  {
   "cell_type": "markdown",
   "metadata": {},
   "source": [
    "Constructing the MDN can then simply be don by calling `build_network`. This separates the output of the fully connected network into the amplitudes, means and standard deviations. Because, unlike with a normal MDN, we are not using the softmax function on the amplitudes, we instead break the degeneracy by ordering the means by size. To do so, we unpack the tensor, and add each subsequent mean to the previous, cutoff using a relu function and then restacked. Both the amplitude and the standard deviation are kept positive using the softplus function."
   ]
  },
  {
   "cell_type": "code",
   "execution_count": 20,
   "metadata": {},
   "outputs": [
    {
     "data": {
      "text/plain": [
       "build_network (generic function with 1 method)"
      ]
     },
     "execution_count": 20,
     "metadata": {},
     "output_type": "execute_result"
    }
   ],
   "source": [
    "function build_network(x, layers, distributions)\n",
    "    x = build_fully_connected(x, layers, distributions)\n",
    "\n",
    "    xα = tf.matmul(x, tf.get_tensor_by_name(\"amplitude_kernels\"))\n",
    "    bα = tf.add(\n",
    "        tf.get_tensor_by_name(\"amplitude_biases\"),\n",
    "        tf.get_tensor_by_name(\"initial_amplitude\"))\n",
    "    xα = tf.add(xα, bα)\n",
    "    α = tf.nn.softplus(xα)\n",
    "\n",
    "    xμ = tf.matmul(x, tf.get_tensor_by_name(\"mean_kernels\"))\n",
    "    μs = tf.split(\n",
    "        2, \n",
    "        distributions, \n",
    "        tf.add(\n",
    "            xμ, \n",
    "            tf.get_tensor_by_name(\"mean_biases\")))\n",
    "    μ = Array{Any}(undef, distributions)\n",
    "    μ[1] = tf.dropdims(\n",
    "        tf.add(\n",
    "            μs[1], \n",
    "            tf.get_tensor_by_name(\"logMth\")), \n",
    "        dims=Int64[2])\n",
    "    for i = 1: distributions - 1\n",
    "        μ[i+1] = tf.add(\n",
    "            μ[i], \n",
    "            tf.dropdims(\n",
    "                tf.nn.relu(μs[i+1]), \n",
    "                dims=Int64[2]))\n",
    "    end\n",
    "    μ = tf.stack(μ, axis=2)\n",
    "\n",
    "    xσ = tf.matmul(\n",
    "        x,\n",
    "        tf.get_tensor_by_name(\"std_kernels\"))\n",
    "    bσ = tf.add(\n",
    "        tf.get_tensor_by_name(\"std_biases\"),\n",
    "        tf.get_tensor_by_name(\"initial_width\"))\n",
    "    xσ = tf.add(xσ, bσ)\n",
    "    σ = tf.nn.softplus(xσ)\n",
    "    return α, μ, σ\n",
    "end"
   ]
  },
  {
   "cell_type": "markdown",
   "metadata": {},
   "source": [
    "These parameters from the MDN are inserted into the Gaussian function, which gives us a tensor with 2 Gaussians evaluated at a given mass and density environment (via the parameters of the MDN). We will at this point define two functions for subtract and divide since they are not defined in the `julia` TensorFlow frontend. Note that this is not necessary, but it does make for better consistency."
   ]
  },
  {
   "cell_type": "code",
   "execution_count": 21,
   "metadata": {},
   "outputs": [
    {
     "data": {
      "text/plain": [
       "divide (generic function with 1 method)"
      ]
     },
     "execution_count": 21,
     "metadata": {},
     "output_type": "execute_result"
    }
   ],
   "source": [
    "function subtract(x, y)\n",
    "    return x .- y\n",
    "end\n",
    "\n",
    "function divide(x, y)\n",
    "    return x ./ y\n",
    "end"
   ]
  },
  {
   "cell_type": "markdown",
   "metadata": {},
   "source": [
    "Note the normalisation with respect to the mean."
   ]
  },
  {
   "cell_type": "code",
   "execution_count": 22,
   "metadata": {},
   "outputs": [
    {
     "data": {
      "text/plain": [
       "gaussian (generic function with 1 method)"
      ]
     },
     "execution_count": 22,
     "metadata": {},
     "output_type": "execute_result"
    }
   ],
   "source": [
    "function gaussian(α, μ, σ, u)\n",
    "    return tf.multiply(\n",
    "        divide(\n",
    "            α, \n",
    "            tf.exp(μ)), \n",
    "        divide(\n",
    "            tf.exp(\n",
    "                tf.multiply(\n",
    "                    Float64(-0.5),\n",
    "                    tf.square(\n",
    "                        divide(\n",
    "                            subtract(\n",
    "                                tf.expand_dims(u, 2), \n",
    "                                μ),\n",
    "                            σ)))), \n",
    "            tf.sqrt(\n",
    "                tf.multiply(\n",
    "                    Float64(2. * pi),\n",
    "                    tf.square(σ)))))\n",
    "end"
   ]
  },
  {
   "cell_type": "markdown",
   "metadata": {},
   "source": [
    "We can now finally input our input field into the graph. First, the density field evolved using LPT is passed as part of the `BORG` algorithm. We therefore want to define a placeholder which can be filled on each evaluation of the likelihood. It's shape is that of the grid"
   ]
  },
  {
   "cell_type": "code",
   "execution_count": 23,
   "metadata": {},
   "outputs": [
    {
     "data": {
      "text/plain": [
       "<Tensor density_LPT:1 shape=(64, 64, 64) dtype=Float64>"
      ]
     },
     "execution_count": 23,
     "metadata": {},
     "output_type": "execute_result"
    }
   ],
   "source": [
    "δ_LPT = tf.placeholder(\n",
    "    Float64, \n",
    "    shape=Int64[N0, N1, N2], \n",
    "    name=\"density_LPT\")"
   ]
  },
  {
   "cell_type": "markdown",
   "metadata": {},
   "source": [
    "Next we convolve this using the `multipole_kernels`. To do so we need to add an extra dimension to the beginning and end of the density field tensor (beginning acts like a batch size and end acts as an input channel size). The output of the convolutional kernel needs to be reshaped into a flat tensor of predictions for each central voxel of the receptive input patch."
   ]
  },
  {
   "cell_type": "code",
   "execution_count": 24,
   "metadata": {},
   "outputs": [
    {
     "data": {
      "text/plain": [
       "<Tensor density_NPE:1 shape=(238328, 1) dtype=Float64>"
      ]
     },
     "execution_count": 24,
     "metadata": {},
     "output_type": "execute_result"
    }
   ],
   "source": [
    "δ_NPE = TensorFlow.reshape(\n",
    "    convolution(\n",
    "        TensorFlow.expand_dims(\n",
    "            TensorFlow.expand_dims(δ_LPT, 1), \n",
    "            5)), \n",
    "    Int64[(N0 - 2) * (N1 - 2) * (N2 - 2), 1],\n",
    "    name=\"density_NPE\")"
   ]
  },
  {
   "cell_type": "markdown",
   "metadata": {},
   "source": [
    "This is then passed through the MDN and we collect the parameters as named tensors for use in `BORG`."
   ]
  },
  {
   "cell_type": "code",
   "execution_count": 25,
   "metadata": {},
   "outputs": [
    {
     "data": {
      "text/plain": [
       "<Tensor density_covariance:1 shape=(238328, 2) dtype=Float64>"
      ]
     },
     "execution_count": 25,
     "metadata": {},
     "output_type": "execute_result"
    }
   ],
   "source": [
    "δ_α, δ_μ, δ_σ = build_network(\n",
    "    δ_NPE,\n",
    "    layers, \n",
    "    distributions)\n",
    "δ_α = tf.identity(δ_α, name=\"density_amplitude\")\n",
    "δ_μ = tf.identity(δ_μ, name=\"density_mean\")\n",
    "δ_σ = tf.identity(δ_σ, name=\"density_covariance\")"
   ]
  },
  {
   "cell_type": "markdown",
   "metadata": {},
   "source": [
    "We do not have to evaluate the Gaussian with these outputs since they are integrated from some mass threshhold, and this can be done analytically. Details of the form of the function is written in the paper."
   ]
  },
  {
   "cell_type": "code",
   "execution_count": 26,
   "metadata": {},
   "outputs": [
    {
     "data": {
      "text/plain": [
       "<Tensor integral:1 shape=() dtype=Float64>"
      ]
     },
     "execution_count": 26,
     "metadata": {},
     "output_type": "execute_result"
    }
   ],
   "source": [
    "error_function = tf.identity(\n",
    "    erfc(\n",
    "        divide(\n",
    "            subtract(\n",
    "                tf.get_tensor_by_name(\"logMth\"), \n",
    "                tf.add(δ_μ, tf.square(δ_σ))), \n",
    "            tf.sqrt(tf.multiply(Float64(2.), tf.square(δ_σ))))), \n",
    "        name=\"error_function\")\n",
    "normalisation_factor = tf.multiply(\n",
    "    tf.multiply(Float64(0.5), δ_α),\n",
    "    tf.exp(tf.multiply(Float64(0.5), tf.square(δ_σ))),\n",
    "    name=\"factor\")\n",
    "integral = tf.reduce_sum(\n",
    "    tf.multiply(normalisation_factor,\n",
    "                error_function),\n",
    "    name=\"integral\")"
   ]
  },
  {
   "cell_type": "markdown",
   "metadata": {},
   "source": [
    "The data is in the form of a halo catalogue (or several catalogues), with selection masks. The masses of the halos should be the logarithm in an array where the first dimension describes each catalogue. The mass is a boolean of the same form, where true will not be masked and false will be masked. Because of the form of these tensors, the `max_catalogue_length` is the length of the longest catalogue. For simplicity we will define a single catalogue with `max_catalogue_length=3000`."
   ]
  },
  {
   "cell_type": "code",
   "execution_count": 27,
   "metadata": {},
   "outputs": [],
   "source": [
    "max_catalogue_length = 3000\n",
    "num_catalogues = 1\n",
    "log_mass = Float64.(ones((num_catalogues, max_catalogue_length)))\n",
    "data_mask = Bool.(ones((num_catalogues, max_catalogue_length)));"
   ]
  },
  {
   "cell_type": "markdown",
   "metadata": {},
   "source": [
    "The corresponding tensors are therefore"
   ]
  },
  {
   "cell_type": "code",
   "execution_count": 28,
   "metadata": {},
   "outputs": [
    {
     "data": {
      "text/plain": [
       "Variable{Bool}(<Tensor mask:1 shape=(1, 3000) dtype=Bool>, <Tensor mask/Assign:1 shape=(1, 3000) dtype=Bool>)"
      ]
     },
     "execution_count": 28,
     "metadata": {},
     "output_type": "execute_result"
    }
   ],
   "source": [
    "catalogue_u = tf.Variable(\n",
    "    log_mass,\n",
    "    trainable=false,\n",
    "    name=\"log_mass\")\n",
    "mask = tf.Variable(\n",
    "    data_mask,\n",
    "    trainable=false,\n",
    "    name=\"mask\")"
   ]
  },
  {
   "cell_type": "markdown",
   "metadata": {},
   "source": [
    "The indices of the halos is a bit tricky to process. Since we want to take the 3x3x3 local patch around the central voxel we need to add the extra indices into the tensor. This can be done for each catalogue using (note that I have only written this for 3x3x3 at the moment, but it is very easy to extend to arbitrary sizes)."
   ]
  },
  {
   "cell_type": "code",
   "execution_count": 29,
   "metadata": {},
   "outputs": [
    {
     "data": {
      "text/plain": [
       "process_indices (generic function with 1 method)"
      ]
     },
     "execution_count": 29,
     "metadata": {},
     "output_type": "execute_result"
    }
   ],
   "source": [
    "function process_indices(indices)\n",
    "    all_indices = Array{Int64, 2}(undef, 27*size(indices)[1], 3)\n",
    "    for i=1:size(indices)[1]\n",
    "        counter = 0\n",
    "        for kk=-1:1, jj=-1:1, ii=-1:1\n",
    "            all_indices[counter+(i-1)*27+1, :] = [indices[i, 1]+ii, \n",
    "                                                  indices[i, 2]+jj, \n",
    "                                                  indices[i, 3]+kk]\n",
    "            counter+=1\n",
    "        end\n",
    "    end\n",
    "    return all_indices\n",
    "end"
   ]
  },
  {
   "cell_type": "markdown",
   "metadata": {},
   "source": [
    "For an individual catalogue we would have a set of indices from the catalogue as"
   ]
  },
  {
   "cell_type": "code",
   "execution_count": 30,
   "metadata": {},
   "outputs": [],
   "source": [
    "catalogue_indices = floor.(cat(dims=3, ones(num_catalogues, max_catalogue_length) / L0 * N0,\n",
    "                                ones(num_catalogues, max_catalogue_length) / L1 * N1,\n",
    "                                ones(num_catalogues, max_catalogue_length) / L2 * N2))\n",
    "processed_catalogue_indices = process_indices(catalogue_indices[1, :, :])\n",
    "processed_catalogue_indices = reshape(processed_catalogue_indices, (1, size(processed_catalogue_indices)...));"
   ]
  },
  {
   "cell_type": "code",
   "execution_count": 31,
   "metadata": {},
   "outputs": [
    {
     "data": {
      "text/plain": [
       "Variable{Int64}(<Tensor catalogue_indices:1 shape=(1, 81000, 3) dtype=Int64>, <Tensor catalogue_indices/Assign:1 shape=(1, 81000, 3) dtype=Int64>)"
      ]
     },
     "execution_count": 31,
     "metadata": {},
     "output_type": "execute_result"
    }
   ],
   "source": [
    "catalogue_indices = tf.Variable(\n",
    "    processed_catalogue_indices,\n",
    "    trainable=false,\n",
    "    name=\"catalogue_indices\")"
   ]
  },
  {
   "cell_type": "markdown",
   "metadata": {},
   "source": [
    "Now when we run the inference we need to collect the correct catalogue from the stored tensors. This can be done using a placeholder."
   ]
  },
  {
   "cell_type": "code",
   "execution_count": 32,
   "metadata": {},
   "outputs": [
    {
     "data": {
      "text/plain": [
       "<Tensor catalogue:1 shape=(1) dtype=Int64>"
      ]
     },
     "execution_count": 32,
     "metadata": {},
     "output_type": "execute_result"
    }
   ],
   "source": [
    "catalogue = tf.placeholder(\n",
    "    Int64,\n",
    "    shape=Int64[1],\n",
    "    name=\"catalogue\")"
   ]
  },
  {
   "cell_type": "markdown",
   "metadata": {},
   "source": [
    "So now we can grab the density field at the indices in a particular halo catalogue and then reshape it into the 3x3x3 blocks for every halo all at the same time."
   ]
  },
  {
   "cell_type": "code",
   "execution_count": 33,
   "metadata": {},
   "outputs": [
    {
     "data": {
      "text/plain": [
       "<Tensor catalogue_density_LPT:1 shape=(3000, 3, 3, 3, 1) dtype=Float64>"
      ]
     },
     "execution_count": 33,
     "metadata": {},
     "output_type": "execute_result"
    }
   ],
   "source": [
    "catalogue_δ = tf.reshape(\n",
    "    tf.gather_nd(\n",
    "        δ_LPT, \n",
    "        tf.gather_nd(catalogue_indices, catalogue)),\n",
    "    Int64[max_catalogue_length, 3, 3, 3, 1],\n",
    "    name=\"catalogue_density_LPT\")"
   ]
  },
  {
   "cell_type": "markdown",
   "metadata": {},
   "source": [
    "Like with the LPT field, this is passed through the neural physical engine and then reshaped into a flat tensor with the length of the halo catalogue."
   ]
  },
  {
   "cell_type": "code",
   "execution_count": 34,
   "metadata": {},
   "outputs": [
    {
     "data": {
      "text/plain": [
       "<Tensor catalogue_density_NPE:1 shape=(3000, 1) dtype=Float64>"
      ]
     },
     "execution_count": 34,
     "metadata": {},
     "output_type": "execute_result"
    }
   ],
   "source": [
    "catalogue_δ_NPE = tf.reshape(\n",
    "    convolution(catalogue_δ), \n",
    "    Int64[max_catalogue_length, 1],\n",
    "    name=\"catalogue_density_NPE\")"
   ]
  },
  {
   "cell_type": "markdown",
   "metadata": {},
   "source": [
    "Now this can be masked correctly according to the selection effects mask corresponding to each halo. The correct mask is first applied to the halo masses."
   ]
  },
  {
   "cell_type": "code",
   "execution_count": 35,
   "metadata": {},
   "outputs": [
    {
     "data": {
      "text/plain": [
       "<Tensor masked_u/Gather_2:1 shape=(?) dtype=Float64>"
      ]
     },
     "execution_count": 35,
     "metadata": {},
     "output_type": "execute_result"
    }
   ],
   "source": [
    "this_mask = tf.identity(\n",
    "    tf.gather_nd(\n",
    "        mask,\n",
    "        catalogue),\n",
    "    name=\"this_mask\")\n",
    "masked_u = tf.boolean_mask(\n",
    "    tf.gather_nd(\n",
    "        catalogue_u,\n",
    "        catalogue),\n",
    "    this_mask,\n",
    "    name=\"masked_u\")"
   ]
  },
  {
   "cell_type": "markdown",
   "metadata": {},
   "source": [
    "And we get the masked parameter values given the density environment using"
   ]
  },
  {
   "cell_type": "code",
   "execution_count": 36,
   "metadata": {},
   "outputs": [
    {
     "data": {
      "text/plain": [
       "<Tensor catalogue_density_covariance:1 shape=(?, 2) dtype=Float64>"
      ]
     },
     "execution_count": 36,
     "metadata": {},
     "output_type": "execute_result"
    }
   ],
   "source": [
    "catalogue_α, catalogue_μ, catalogue_σ = build_network(\n",
    "        tf.boolean_mask(catalogue_δ_NPE, this_mask),\n",
    "        layers, \n",
    "        distributions)\n",
    "catalogue_α = tf.identity(catalogue_α, name=\"catalogue_density_amplitude\")\n",
    "catalogue_μ = tf.identity(catalogue_μ, name=\"catalogue_density_mean\")\n",
    "catalogue_σ = tf.identity(catalogue_σ, name=\"catalogue_density_covariance\")"
   ]
  },
  {
   "cell_type": "markdown",
   "metadata": {},
   "source": [
    "We can evaluate the Gaussian at the masses in the halo catalogue with the parameters and the masked halo masses, and then summing over the Gaussians gives us the mixture density."
   ]
  },
  {
   "cell_type": "code",
   "execution_count": 37,
   "metadata": {},
   "outputs": [
    {
     "data": {
      "text/plain": [
       "<Tensor catalogue_density_mixture:1 shape=(?) dtype=Float64>"
      ]
     },
     "execution_count": 37,
     "metadata": {},
     "output_type": "execute_result"
    }
   ],
   "source": [
    "catalogue_g = tf.identity(\n",
    "    gaussian(catalogue_α, \n",
    "             catalogue_μ, \n",
    "             catalogue_σ, \n",
    "             masked_u),\n",
    "    name=\"catalogue_density_gaussian\")\n",
    "catalogue_n = tf.reduce_sum(catalogue_g, axis=2, name=\"catalogue_density_mixture\")"
   ]
  },
  {
   "cell_type": "markdown",
   "metadata": {},
   "source": [
    "The likelihood is given by the sum of the negative logarithm of mixture density plus the integral over the masses we calculated earlier (normalised by the grid size)."
   ]
  },
  {
   "cell_type": "code",
   "execution_count": 38,
   "metadata": {},
   "outputs": [
    {
     "data": {
      "text/plain": [
       "<Tensor likelihood:1 shape=() dtype=Float64>"
      ]
     },
     "execution_count": 38,
     "metadata": {},
     "output_type": "execute_result"
    }
   ],
   "source": [
    "likelihood = tf.reduce_sum(\n",
    "    subtract(\n",
    "        tf.multiply(\n",
    "            V,\n",
    "            integral),\n",
    "        tf.log(catalogue_n)),\n",
    "    name=\"likelihood\")"
   ]
  },
  {
   "cell_type": "markdown",
   "metadata": {},
   "source": [
    "We need to include our prior which is a Gaussian of width `bias_width` over all of the parameters"
   ]
  },
  {
   "cell_type": "code",
   "execution_count": 39,
   "metadata": {},
   "outputs": [
    {
     "data": {
      "text/plain": [
       "<Tensor prior:1 shape=() dtype=Float64>"
      ]
     },
     "execution_count": 39,
     "metadata": {},
     "output_type": "execute_result"
    }
   ],
   "source": [
    "prior = tf.multiply(\n",
    "    divide(Float64(0.5),\n",
    "           tf.square(bias_prior)),\n",
    "    tf.reduce_sum(tf.square(p)),\n",
    "    name=\"prior\")"
   ]
  },
  {
   "cell_type": "markdown",
   "metadata": {},
   "source": [
    "So the cost function to evaluate is"
   ]
  },
  {
   "cell_type": "code",
   "execution_count": 40,
   "metadata": {},
   "outputs": [
    {
     "data": {
      "text/plain": [
       "<Tensor loss:1 shape=() dtype=Float64>"
      ]
     },
     "execution_count": 40,
     "metadata": {},
     "output_type": "execute_result"
    }
   ],
   "source": [
    "Λ = tf.add(\n",
    "    likelihood,\n",
    "    prior,\n",
    "    name=\"loss\")"
   ]
  },
  {
   "cell_type": "markdown",
   "metadata": {},
   "source": [
    "Now for `BORG` we need the gradients with respect to the LPT field and the gradients with respect to all of the parameters of the neural bias model."
   ]
  },
  {
   "cell_type": "code",
   "execution_count": null,
   "metadata": {},
   "outputs": [],
   "source": [
    "adgrad = tf.gradients(Λ, δ_LPT)\n",
    "wgrad = tf.gradients(Λ, p)"
   ]
  },
  {
   "cell_type": "markdown",
   "metadata": {},
   "source": [
    "We now have all the ingredients we need to run the HMC sampling of the neural bias model with `BORG`. For access to the mainframe of `BORG`, please contact the Aquila consortium"
   ]
  }
 ],
 "metadata": {
  "kernelspec": {
   "display_name": "Julia 1.1.1",
   "language": "julia",
   "name": "julia-1.1"
  },
  "language_info": {
   "file_extension": ".jl",
   "mimetype": "application/julia",
   "name": "julia",
   "version": "1.1.1"
  },
  "sos": {
   "kernels": [
    [
     "SoS",
     "sos",
     "",
     ""
    ]
   ],
   "version": ""
  }
 },
 "nbformat": 4,
 "nbformat_minor": 4
}
